{
 "cells": [
  {
   "cell_type": "code",
   "execution_count": 9,
   "metadata": {},
   "outputs": [
    {
     "name": "stdout",
     "output_type": "stream",
     "text": [
      "w1 : 4.022 w0 : 6.162\n",
      "Gradient Descent Total Cost : 0.9935\n",
      "\n",
      "\n",
      "w1 : 4.028 w0 : 6.156\n",
      "Stochastic Gradient Descent Total Cost : 0.9937\n"
     ]
    },
    {
     "data": {
      "image/png": "[encoded data removed]",
      "text/plain": [
       "<Figure size 432x288 with 1 Axes>"
      ]
     },
     "metadata": {
      "needs_background": "light"
     },
     "output_type": "display_data"
    }
   ],
   "source": [
    "# 경사하강법\n",
    "\n",
    "import numpy as np\n",
    "import matplotlib.pyplot as plt\n",
    "%matplotlib inline\n",
    "\n",
    "np.random.seed(0)\n",
    "x = 2*np.random.rand(100,1)\n",
    "y=6 + 4*x + np.random.randn(100,1)\n",
    "plt.scatter(x,y)\n",
    "\n",
    "def get_cost(y, y_pred):\n",
    "    N = len(y)\n",
    "    cost = np.sum(np.square(y- y_pred))/N\n",
    "    return cost\n",
    "\n",
    "\n",
    "def get_weight_updates(w1, w0, x, y, learning_rate=0.01):\n",
    "    N = len(y)\n",
    "    w1_update = np.zeros_like(w1)\n",
    "    w0_update = np.zeros_like(w0)\n",
    "#     예측 배열 계산하고 예측과 실제값의 차이 계산\n",
    "    y_pred = np.dot(x, w1.T) + w0\n",
    "    diff = y-y_pred\n",
    "    \n",
    "    w0_factors = np.ones((N,1))\n",
    "    w1_update = -(2/N)*learning_rate*(np.dot(x.T, diff))\n",
    "    w0_update = -(2/N)*learning_rate*(np.dot(w0_factors.T, diff))\n",
    "    \n",
    "    return w1_update, w0_update\n",
    "\n",
    "\n",
    "def gradient_descent_steps(x,y,iters=10000):\n",
    "    w0 = np.zeros((1,1))\n",
    "    w1 = np.zeros((1,1))\n",
    "    \n",
    "    for ind in range(iters):\n",
    "        w1_update, w0_update = get_weight_updates(w1, w0, x, y, learning_rate=0.01)\n",
    "        w1 = w1 - w1_update\n",
    "        w0 = w0 - w0_update\n",
    "        \n",
    "    return w1, w0\n",
    "\n",
    "w1, w0 = gradient_descent_steps(x,y,iters=1000)\n",
    "print('w1 : {:.3f} w0 : {:.3f}'.format(w1[0,0], w0[0,0]))\n",
    "y_pred = w1[0,0] * x + w0\n",
    "print('Gradient Descent Total Cost : {:.4f}'.format(get_cost(y,y_pred)))\n",
    "print('\\n')\n",
    "plt.scatter(x,y)\n",
    "plt.plot(x,y_pred)\n",
    "\n",
    "# 경사하강법의 수행시간이 오래걸리는 단점을 개선한 stochastic_gradient_descent(확률적 경사 하강법)\n",
    "\n",
    "def stochastic_gradient_descent_steps(x,y,batch_size=10, iters=1000):\n",
    "    w0 = np.zeros((1,1))\n",
    "    w1 = np.zeros((1,1))\n",
    "    prev_cost  = 100000\n",
    "    iter_index = 0\n",
    "    \n",
    "    for ind in range(iters):\n",
    "        np.random.seed(ind)\n",
    "        stochastic_random_index = np.random.permutation(x.shape[0])\n",
    "        sample_x = x[stochastic_random_index[0:batch_size]]\n",
    "        sample_y = y[stochastic_random_index[0:batch_size]]\n",
    "        w1_update, w0_update = get_weight_updates(w1,w0,sample_x, sample_y, learning_rate = 0.01)\n",
    "        w1 = w1 - w1_update\n",
    "        w0 = w0 - w0_update\n",
    "    return w1 , w0\n",
    "\n",
    "\n",
    "w1, w0 = stochastic_gradient_descent_steps(x,y,iters=1000)\n",
    "print('w1 :', round(w1[0,0],3), 'w0 :', round(w0[0,0],3))\n",
    "y_pred = w1[0,0] * x + w0\n",
    "print('Stochastic Gradient Descent Total Cost : {:.4f}'.format(get_cost(y, y_pred)))\n",
    "\n",
    "# 일부의 데이터 세트를 가지고 경사하강법을 실행했음에도 큰 차이가 없음을 알 수 있다."
   ]
  }
 ],
 "metadata": {
  "kernelspec": {
   "display_name": "Python 3",
   "language": "python",
   "name": "python3"
  },
  "language_info": {
   "codemirror_mode": {
    "name": "ipython",
    "version": 3
   },
   "file_extension": ".py",
   "mimetype": "text/x-python",
   "name": "python",
   "nbconvert_exporter": "python",
   "pygments_lexer": "ipython3",
   "version": "3.7.6"
  }
 },
 "nbformat": 4,
 "nbformat_minor": 4
}
